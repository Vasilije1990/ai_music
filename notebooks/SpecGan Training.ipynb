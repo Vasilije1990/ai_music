{
 "cells": [
  {
   "cell_type": "code",
   "execution_count": 1,
   "id": "3061e0a9",
   "metadata": {},
   "outputs": [
    {
     "data": {
      "text/plain": "'cuda'"
     },
     "execution_count": 1,
     "metadata": {},
     "output_type": "execute_result"
    }
   ],
   "source": [
    "from utils.utils import *\n",
    "from utils.specgan import *\n",
    "import torch\n",
    "import torch.nn as nn\n",
    "import torch.optim as optim\n",
    "from torch.utils.data import DataLoader,Dataset\n",
    "from tqdm import tqdm\n",
    "import pickle\n",
    "\n",
    "device = \"cuda\" if torch.cuda.is_available() else \"cpu\"\n",
    "device"
   ]
  },
  {
   "cell_type": "markdown",
   "id": "4c3bfb25",
   "metadata": {},
   "source": [
    "# Setup"
   ]
  },
  {
   "cell_type": "code",
   "execution_count": 6,
   "id": "2a997cee",
   "metadata": {},
   "outputs": [
    {
     "name": "stderr",
     "output_type": "stream",
     "text": [
      "  0%|          | 0/3 [00:00<?, ?sample/s]\n"
     ]
    },
    {
     "ename": "ValueError",
     "evalue": "could not broadcast input array from shape (128,256) into shape (128,128)",
     "output_type": "error",
     "traceback": [
      "\u001B[0;31m---------------------------------------------------------------------------\u001B[0m",
      "\u001B[0;31mValueError\u001B[0m                                Traceback (most recent call last)",
      "Input \u001B[0;32mIn [6]\u001B[0m, in \u001B[0;36m<cell line: 32>\u001B[0;34m()\u001B[0m\n\u001B[1;32m     23\u001B[0m BETA2 \u001B[38;5;241m=\u001B[39m \u001B[38;5;241m0.9\u001B[39m\n\u001B[1;32m     26\u001B[0m \u001B[38;5;66;03m# Dataset and Dataloader\u001B[39;00m\n\u001B[1;32m     27\u001B[0m \n\u001B[1;32m     28\u001B[0m \u001B[38;5;66;03m#load into vram\u001B[39;00m\n\u001B[1;32m     29\u001B[0m \u001B[38;5;66;03m#train_set = AudioDataset_ram(DATA_PATH,sample_rate=SAMPLING_RATE,number_samples=AUDIO_LENGTH,extension='wav',std=NORMALIZE_AUDIO,device=device,spectrogram=True)\u001B[39;00m\n\u001B[1;32m     30\u001B[0m \n\u001B[1;32m     31\u001B[0m \u001B[38;5;66;03m#load into cpu ram\u001B[39;00m\n\u001B[0;32m---> 32\u001B[0m train_set \u001B[38;5;241m=\u001B[39m \u001B[43mAudioDataset_ram\u001B[49m\u001B[43m(\u001B[49m\u001B[43mDATA_PATH\u001B[49m\u001B[43m,\u001B[49m\u001B[43msample_rate\u001B[49m\u001B[38;5;241;43m=\u001B[39;49m\u001B[43mSAMPLING_RATE\u001B[49m\u001B[43m,\u001B[49m\u001B[43mnumber_samples\u001B[49m\u001B[38;5;241;43m=\u001B[39;49m\u001B[43mAUDIO_LENGTH\u001B[49m\u001B[43m,\u001B[49m\u001B[43mextension\u001B[49m\u001B[38;5;241;43m=\u001B[39;49m\u001B[38;5;124;43m'\u001B[39;49m\u001B[38;5;124;43mwav\u001B[39;49m\u001B[38;5;124;43m'\u001B[39;49m\u001B[43m,\u001B[49m\u001B[43mstd\u001B[49m\u001B[38;5;241;43m=\u001B[39;49m\u001B[43mNORMALIZE_AUDIO\u001B[49m\u001B[43m,\u001B[49m\u001B[43mdevice\u001B[49m\u001B[38;5;241;43m=\u001B[39;49m\u001B[38;5;124;43m'\u001B[39;49m\u001B[38;5;124;43mcpu\u001B[39;49m\u001B[38;5;124;43m'\u001B[39;49m\u001B[43m,\u001B[49m\u001B[43mspectrogram\u001B[49m\u001B[38;5;241;43m=\u001B[39;49m\u001B[38;5;28;43;01mTrue\u001B[39;49;00m\u001B[43m)\u001B[49m\n\u001B[1;32m     34\u001B[0m \u001B[38;5;28mprint\u001B[39m(train_set\u001B[38;5;241m.\u001B[39m\u001B[38;5;21m__len__\u001B[39m())\n",
      "File \u001B[0;32m~/Documents/projects/ai_music/notebooks/utils/utils.py:175\u001B[0m, in \u001B[0;36mAudioDataset_ram.__init__\u001B[0;34m(self, data_path, sample_rate, number_samples, extension, std, device, start_only, spectrogram)\u001B[0m\n\u001B[1;32m    173\u001B[0m \u001B[38;5;28;01mwith\u001B[39;00m tqdm(\u001B[38;5;28mself\u001B[39m\u001B[38;5;241m.\u001B[39mall_paths, unit\u001B[38;5;241m=\u001B[39m\u001B[38;5;124m\"\u001B[39m\u001B[38;5;124msample\u001B[39m\u001B[38;5;124m\"\u001B[39m) \u001B[38;5;28;01mas\u001B[39;00m samples: \n\u001B[1;32m    174\u001B[0m     \u001B[38;5;28;01mfor\u001B[39;00m i, path \u001B[38;5;129;01min\u001B[39;00m \u001B[38;5;28menumerate\u001B[39m(samples):\n\u001B[0;32m--> 175\u001B[0m         \u001B[38;5;28mself\u001B[39m\u001B[38;5;241m.\u001B[39mdata[i]\u001B[38;5;241m=\u001B[39mload_audio_file(path,sample_rate\u001B[38;5;241m=\u001B[39m\u001B[38;5;28mself\u001B[39m\u001B[38;5;241m.\u001B[39mnumber_samples,number_samples\u001B[38;5;241m=\u001B[39m\u001B[38;5;28mself\u001B[39m\u001B[38;5;241m.\u001B[39mnumber_samples,std\u001B[38;5;241m=\u001B[39m\u001B[38;5;28mself\u001B[39m\u001B[38;5;241m.\u001B[39mstd,start_only\u001B[38;5;241m=\u001B[39m\u001B[38;5;28mself\u001B[39m\u001B[38;5;241m.\u001B[39mstart_only,spectrogram\u001B[38;5;241m=\u001B[39m\u001B[38;5;28mself\u001B[39m\u001B[38;5;241m.\u001B[39mspectrogram)\n\u001B[1;32m    176\u001B[0m         \u001B[38;5;28;01mif\u001B[39;00m i\u001B[38;5;241m%\u001B[39m\u001B[38;5;241m10\u001B[39m\u001B[38;5;241m==\u001B[39m\u001B[38;5;241m0\u001B[39m:\n\u001B[1;32m    177\u001B[0m             samples\u001B[38;5;241m.\u001B[39mset_description(\u001B[38;5;124mf\u001B[39m\u001B[38;5;124m\"\u001B[39m\u001B[38;5;124mloading sample \u001B[39m\u001B[38;5;132;01m{\u001B[39;00mi\u001B[38;5;132;01m}\u001B[39;00m\u001B[38;5;124m\"\u001B[39m)\n",
      "\u001B[0;31mValueError\u001B[0m: could not broadcast input array from shape (128,256) into shape (128,128)"
     ]
    }
   ],
   "source": [
    "GPU=False\n",
    "if not GPU:\n",
    "    device= 'cpu'\n",
    "# Data Params\n",
    "DATA_PATH='./data'\n",
    "AUDIO_LENGTH = 16384 #[16384, 32768, 65536]\n",
    "SAMPLING_RATE = 16000\n",
    "NORMALIZE_AUDIO = False \n",
    "CHANNELS = 1\n",
    "\n",
    "#Model params\n",
    "LATENT_NOISE_DIM = 100\n",
    "MODEL_CAPACITY=64\n",
    "LAMBDA_GP = 10\n",
    "\n",
    "#Training params\n",
    "TRAIN_DISCRIM = 5 # how many times to train the discriminator for one generator step\n",
    "EPOCHS = 30 #was 500, just tried to speed it up a bit\n",
    "BATCH_SIZE=26\n",
    "LR_GEN = 1e-4\n",
    "LR_DISC = 1e-4 # alternative is bigger lr instead of high TRAIN_DISCRIM\n",
    "BETA1 = 0.5\n",
    "BETA2 = 0.9\n",
    "\n",
    "\n",
    "# Dataset and Dataloader\n",
    "\n",
    "#load into vram\n",
    "#train_set = AudioDataset_ram(DATA_PATH,sample_rate=SAMPLING_RATE,number_samples=AUDIO_LENGTH,extension='wav',std=NORMALIZE_AUDIO,device=device,spectrogram=True)\n",
    "\n",
    "#load into cpu ram\n",
    "train_set = AudioDataset_ram(DATA_PATH,sample_rate=SAMPLING_RATE,number_samples=AUDIO_LENGTH,extension='wav',std=NORMALIZE_AUDIO,device='cpu',spectrogram=True)\n",
    "\n",
    "print(train_set.__len__())\n"
   ]
  },
  {
   "cell_type": "code",
   "execution_count": 3,
   "id": "08fe9cae",
   "metadata": {
    "scrolled": true
   },
   "outputs": [
    {
     "ename": "NameError",
     "evalue": "name 'train_set' is not defined",
     "output_type": "error",
     "traceback": [
      "\u001B[0;31m---------------------------------------------------------------------------\u001B[0m",
      "\u001B[0;31mNameError\u001B[0m                                 Traceback (most recent call last)",
      "Input \u001B[0;32mIn [3]\u001B[0m, in \u001B[0;36m<cell line: 1>\u001B[0;34m()\u001B[0m\n\u001B[0;32m----> 1\u001B[0m \u001B[38;5;28mprint\u001B[39m(\u001B[43mtrain_set\u001B[49m\u001B[38;5;241m.\u001B[39mmel_mean)\n\u001B[1;32m      2\u001B[0m \u001B[38;5;28mprint\u001B[39m(train_set\u001B[38;5;241m.\u001B[39mmel_std)\n",
      "\u001B[0;31mNameError\u001B[0m: name 'train_set' is not defined"
     ]
    }
   ],
   "source": [
    "print(train_set.mel_mean)\n",
    "print(train_set.mel_std)"
   ]
  },
  {
   "cell_type": "markdown",
   "id": "9ae6b042",
   "metadata": {},
   "source": [
    "# loading the model"
   ]
  },
  {
   "cell_type": "code",
   "execution_count": 14,
   "id": "ee9715f2",
   "metadata": {},
   "outputs": [],
   "source": [
    "train_loader = DataLoader(dataset=train_set,\n",
    "                          batch_size=BATCH_SIZE,\n",
    "                          shuffle=True,\n",
    "                          num_workers=4)\n",
    "#generator and discriminator\n",
    "spec_gen = SpecGenerator(d=MODEL_CAPACITY, c=CHANNELS ,inplace=True).to(device)\n",
    "spec_disc = SpecDiscriminator(d=MODEL_CAPACITY, c=CHANNELS ,inplace=True).to(device)\n",
    "\n",
    "#random weights init\n",
    "initialize_weights(spec_gen)\n",
    "initialize_weights(spec_disc)\n",
    "\n",
    "spec_gen.train()\n",
    "spec_disc.train()\n",
    "\n",
    "#Adam optim for both generator iand discriminator\n",
    "optimizer_gen = optim.Adam(spec_gen.parameters(), lr=LR_GEN, betas=(BETA1, BETA2))\n",
    "optimizer_disc = optim.Adam(spec_disc.parameters(), lr=LR_DISC, betas=(BETA1, BETA2))\n",
    "\n",
    "\n",
    "\n",
    "start=-1 #to resume from saved state\n",
    "epoch_start=-1 #to resume from saved state\n",
    "if start>0:\n",
    "    spec_disc.load_state_dict(torch.load('./save/specdisc/spec_'+str(epoch_start)+'_'+str(start)+'.pt'))\n",
    "    spec_gen.load_state_dict(torch.load('./save/specgen/gen_'+str(epoch_start)+'_'+str(start)+'.pt'))"
   ]
  },
  {
   "cell_type": "markdown",
   "id": "009a5cd9",
   "metadata": {},
   "source": [
    "# Training loop\n",
    "\n",
    "make sure the 4 saving folders are created, or else, it will crash\n",
    "\n",
    "-save/spechist\n",
    "\n",
    "-save/specfake\n",
    "\n",
    "-save/specdisc\n",
    "\n",
    "-save/specgen"
   ]
  },
  {
   "cell_type": "code",
   "execution_count": 15,
   "id": "3ce01325",
   "metadata": {},
   "outputs": [
    {
     "name": "stderr",
     "output_type": "stream",
     "text": [
      "Epoch 0: 100%|██████████| 1/1 [00:06<00:00,  6.01s/batch]\n",
      "Epoch 1: 100%|██████████| 1/1 [00:06<00:00,  6.19s/batch]\n",
      "Epoch 2: 100%|██████████| 1/1 [00:05<00:00,  5.52s/batch]\n",
      "Epoch 3: 100%|██████████| 1/1 [00:06<00:00,  6.23s/batch]\n",
      "Epoch 4: 100%|██████████| 1/1 [00:05<00:00,  5.84s/batch]\n",
      "Epoch 5: 100%|██████████| 1/1 [00:06<00:00,  6.61s/batch]\n",
      "Epoch 6: 100%|██████████| 1/1 [00:06<00:00,  6.40s/batch]\n",
      "Epoch 7: 100%|██████████| 1/1 [00:06<00:00,  6.65s/batch]\n",
      "Epoch 8: 100%|██████████| 1/1 [00:07<00:00,  7.19s/batch]\n",
      "Epoch 9: 100%|██████████| 1/1 [00:06<00:00,  6.66s/batch]\n",
      "Epoch 10: 100%|██████████| 1/1 [00:06<00:00,  6.33s/batch]\n",
      "Epoch 11: 100%|██████████| 1/1 [00:06<00:00,  6.31s/batch]\n",
      "Epoch 12: 100%|██████████| 1/1 [00:06<00:00,  6.17s/batch]\n",
      "Epoch 13: 100%|██████████| 1/1 [00:06<00:00,  6.25s/batch]\n",
      "Epoch 14: 100%|██████████| 1/1 [00:06<00:00,  6.66s/batch]\n",
      "Epoch 15: 100%|██████████| 1/1 [00:06<00:00,  6.64s/batch]\n",
      "Epoch 16: 100%|██████████| 1/1 [00:06<00:00,  6.30s/batch]\n",
      "Epoch 17: 100%|██████████| 1/1 [00:06<00:00,  6.61s/batch]\n",
      "Epoch 18: 100%|██████████| 1/1 [00:06<00:00,  6.59s/batch]\n",
      "Epoch 19: 100%|██████████| 1/1 [00:06<00:00,  6.28s/batch]\n",
      "Epoch 20: 100%|██████████| 1/1 [00:06<00:00,  6.39s/batch]\n",
      "Epoch 21: 100%|██████████| 1/1 [00:06<00:00,  6.89s/batch]\n",
      "Epoch 22: 100%|██████████| 1/1 [00:06<00:00,  6.47s/batch]\n",
      "Epoch 23: 100%|██████████| 1/1 [00:06<00:00,  6.22s/batch]\n",
      "Epoch 24: 100%|██████████| 1/1 [00:06<00:00,  6.34s/batch]\n",
      "Epoch 25: 100%|██████████| 1/1 [00:05<00:00,  5.98s/batch]\n",
      "Epoch 26: 100%|██████████| 1/1 [00:06<00:00,  6.55s/batch]\n",
      "Epoch 27: 100%|██████████| 1/1 [00:06<00:00,  6.23s/batch]\n",
      "Epoch 28: 100%|██████████| 1/1 [00:06<00:00,  6.43s/batch]\n",
      "Epoch 29: 100%|██████████| 1/1 [00:06<00:00,  6.11s/batch]\n"
     ]
    }
   ],
   "source": [
    "#training\n",
    "import pickle\n",
    "step = start+1 # for restart from saved weights\n",
    "epoch_start+=1\n",
    "hist=[]\n",
    "for epoch in range(epoch_start,EPOCHS):\n",
    "    with tqdm(train_loader, unit=\"batch\") as tepoch: \n",
    "        for batch_id, real_audio in enumerate(tepoch):  \n",
    "            tepoch.set_description(f\"Epoch {epoch}\")\n",
    "            real_audio = real_audio.to(device)\n",
    "            \n",
    "            #Train Discriminator \n",
    "            for train_step in range(TRAIN_DISCRIM):\n",
    "                noise = torch.randn(real_audio.shape[0], LATENT_NOISE_DIM).to(device)\n",
    "                #print(noise.shape)\n",
    "                fake_audio = spec_gen(noise)\n",
    "                disc_real = spec_disc(real_audio).reshape(-1)\n",
    "                disc_fake = spec_disc(fake_audio).reshape(-1)\n",
    "                loss_disc = wasserstein_loss(spec_disc, real_audio, fake_audio,device,LAMBDA = LAMBDA_GP,spec_gan=True)\n",
    "                spec_disc.zero_grad()\n",
    "                loss_disc.backward(retain_graph=True)\n",
    "                optimizer_disc.step()\n",
    "\n",
    "            # Train the generator!\n",
    "            all_wasserstein = spec_disc(fake_audio).reshape(-1)\n",
    "            loss = -torch.mean(all_wasserstein)\n",
    "            spec_gen.zero_grad()\n",
    "            loss.backward()\n",
    "            optimizer_gen.step()\n",
    "            step += 1\n",
    "            # Print progress, save stats, and save model\n",
    "            hist.append([loss.item(),loss_disc.item()])\n",
    "            if batch_id % 5 == 0 and batch_id > 0:\n",
    "                tepoch.set_postfix(gen_loss=loss.item(), disc_loss=loss_disc.item())\n",
    "\n",
    "    if epoch % 5 == 0:\n",
    "        with open('./save/spechist/hist_'+str(step)+'_'+str(epoch)+'_'+str(batch_id)+'.pkl', 'wb') as f:\n",
    "            pickle.dump(hist, f)\n",
    "        torch.save(spec_gen.state_dict(), './save/specgen/gen_'+str(epoch)+'_'+str(step)+'.pt')\n",
    "        torch.save(spec_disc.state_dict(), './save/specdisc/spec_'+str(epoch)+'_'+str(step)+'.pt')\n",
    "        with torch.no_grad():\n",
    "            fake = spec_gen(noise)\n",
    "            torch.save(fake, './save/specfake/fake_'+str(epoch)+'_'+str(step)+'.pt')\n",
    "        if step>30000:\n",
    "            break"
   ]
  },
  {
   "cell_type": "code",
   "execution_count": 11,
   "outputs": [
    {
     "data": {
      "text/plain": "0"
     },
     "execution_count": 11,
     "metadata": {},
     "output_type": "execute_result"
    }
   ],
   "source": [
    "5%5"
   ],
   "metadata": {
    "collapsed": false,
    "pycharm": {
     "name": "#%%\n"
    }
   }
  },
  {
   "cell_type": "code",
   "execution_count": null,
   "outputs": [],
   "source": [],
   "metadata": {
    "collapsed": false,
    "pycharm": {
     "name": "#%%\n"
    }
   }
  }
 ],
 "metadata": {
  "kernelspec": {
   "display_name": "Python 3",
   "language": "python",
   "name": "python3"
  },
  "language_info": {
   "codemirror_mode": {
    "name": "ipython",
    "version": 3
   },
   "file_extension": ".py",
   "mimetype": "text/x-python",
   "name": "python",
   "nbconvert_exporter": "python",
   "pygments_lexer": "ipython3",
   "version": "3.6.13"
  }
 },
 "nbformat": 4,
 "nbformat_minor": 5
}