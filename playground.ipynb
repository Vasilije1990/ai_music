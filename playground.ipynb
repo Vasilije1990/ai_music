{
 "cells": [
  {
   "cell_type": "markdown",
   "id": "e032cdd7-62e3-4db5-9c9e-9300d0d6c87e",
   "metadata": {},
   "source": [
    "### cut 10 seconds of audio"
   ]
  },
  {
   "cell_type": "code",
   "execution_count": null,
   "id": "f2028a2d-d881-499b-bd6f-899aee797c16",
   "metadata": {},
   "outputs": [],
   "source": [
    "!ffmpeg -to 10 -i static/audio/jynweythek.mp3 static/audio/test3.mp3"
   ]
  }
 ],
 "metadata": {
  "kernelspec": {
   "display_name": "Python 3 (ipykernel)",
   "language": "python",
   "name": "python3"
  },
  "language_info": {
   "codemirror_mode": {
    "name": "ipython",
    "version": 3
   },
   "file_extension": ".py",
   "mimetype": "text/x-python",
   "name": "python",
   "nbconvert_exporter": "python",
   "pygments_lexer": "ipython3",
   "version": "3.8.10"
  }
 },
 "nbformat": 4,
 "nbformat_minor": 5
}
